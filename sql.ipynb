{
 "cells": [
  {
   "cell_type": "code",
   "execution_count": 4,
   "metadata": {},
   "outputs": [],
   "source": [
    "import pandas as pd\n",
    "from pandas import ExcelWriter\n",
    "from pandas import ExcelFile"
   ]
  },
  {
   "cell_type": "code",
   "execution_count": 7,
   "metadata": {},
   "outputs": [],
   "source": [
    "df=pd.read_excel(r'C:\\Users\\sameer\\Downloads\\test1.xlsx',sheet_name='Sheet2')\n"
   ]
  },
  {
   "cell_type": "code",
   "execution_count": 8,
   "metadata": {},
   "outputs": [
    {
     "data": {
      "text/html": [
       "<div>\n",
       "<style scoped>\n",
       "    .dataframe tbody tr th:only-of-type {\n",
       "        vertical-align: middle;\n",
       "    }\n",
       "\n",
       "    .dataframe tbody tr th {\n",
       "        vertical-align: top;\n",
       "    }\n",
       "\n",
       "    .dataframe thead th {\n",
       "        text-align: right;\n",
       "    }\n",
       "</style>\n",
       "<table border=\"1\" class=\"dataframe\">\n",
       "  <thead>\n",
       "    <tr style=\"text-align: right;\">\n",
       "      <th></th>\n",
       "      <th>coll</th>\n",
       "      <th>ab1</th>\n",
       "      <th>ab2</th>\n",
       "      <th>ab3</th>\n",
       "      <th>ab4</th>\n",
       "      <th>ab5</th>\n",
       "      <th>ab6</th>\n",
       "      <th>ab7</th>\n",
       "      <th>ab8</th>\n",
       "      <th>ab9</th>\n",
       "      <th>ab10</th>\n",
       "      <th>ab11</th>\n",
       "      <th>ab12</th>\n",
       "      <th>ab13</th>\n",
       "      <th>money</th>\n",
       "    </tr>\n",
       "  </thead>\n",
       "  <tbody>\n",
       "    <tr>\n",
       "      <th>0</th>\n",
       "      <td>c1</td>\n",
       "      <td>0.905732</td>\n",
       "      <td>0.707197</td>\n",
       "      <td>0.428938</td>\n",
       "      <td>0.774995</td>\n",
       "      <td>0.081938</td>\n",
       "      <td>0.954180</td>\n",
       "      <td>0.177443</td>\n",
       "      <td>0.419994</td>\n",
       "      <td>0.003959</td>\n",
       "      <td>0.074694</td>\n",
       "      <td>0.865545</td>\n",
       "      <td>0.647459</td>\n",
       "      <td>0.753152</td>\n",
       "      <td>805</td>\n",
       "    </tr>\n",
       "    <tr>\n",
       "      <th>1</th>\n",
       "      <td>c2</td>\n",
       "      <td>0.129007</td>\n",
       "      <td>0.984608</td>\n",
       "      <td>0.392958</td>\n",
       "      <td>0.328581</td>\n",
       "      <td>0.535483</td>\n",
       "      <td>0.575323</td>\n",
       "      <td>0.350605</td>\n",
       "      <td>0.807879</td>\n",
       "      <td>0.551643</td>\n",
       "      <td>0.103225</td>\n",
       "      <td>0.057276</td>\n",
       "      <td>0.953222</td>\n",
       "      <td>0.439407</td>\n",
       "      <td>351</td>\n",
       "    </tr>\n",
       "    <tr>\n",
       "      <th>2</th>\n",
       "      <td>c3</td>\n",
       "      <td>0.952335</td>\n",
       "      <td>0.360668</td>\n",
       "      <td>0.345067</td>\n",
       "      <td>0.998513</td>\n",
       "      <td>0.432229</td>\n",
       "      <td>0.602585</td>\n",
       "      <td>0.811613</td>\n",
       "      <td>0.797857</td>\n",
       "      <td>0.876026</td>\n",
       "      <td>0.126509</td>\n",
       "      <td>0.838291</td>\n",
       "      <td>0.199005</td>\n",
       "      <td>0.329806</td>\n",
       "      <td>739</td>\n",
       "    </tr>\n",
       "    <tr>\n",
       "      <th>3</th>\n",
       "      <td>c4</td>\n",
       "      <td>0.198856</td>\n",
       "      <td>0.244635</td>\n",
       "      <td>0.098821</td>\n",
       "      <td>0.766162</td>\n",
       "      <td>0.165388</td>\n",
       "      <td>0.753413</td>\n",
       "      <td>0.012347</td>\n",
       "      <td>0.269435</td>\n",
       "      <td>0.270655</td>\n",
       "      <td>0.496509</td>\n",
       "      <td>0.833212</td>\n",
       "      <td>0.644528</td>\n",
       "      <td>0.573782</td>\n",
       "      <td>210</td>\n",
       "    </tr>\n",
       "    <tr>\n",
       "      <th>4</th>\n",
       "      <td>c5</td>\n",
       "      <td>0.534105</td>\n",
       "      <td>0.506822</td>\n",
       "      <td>0.061836</td>\n",
       "      <td>0.362097</td>\n",
       "      <td>0.077992</td>\n",
       "      <td>0.301004</td>\n",
       "      <td>0.199211</td>\n",
       "      <td>0.427506</td>\n",
       "      <td>0.777432</td>\n",
       "      <td>0.231721</td>\n",
       "      <td>0.334773</td>\n",
       "      <td>0.955292</td>\n",
       "      <td>0.781242</td>\n",
       "      <td>238</td>\n",
       "    </tr>\n",
       "  </tbody>\n",
       "</table>\n",
       "</div>"
      ],
      "text/plain": [
       "  coll       ab1       ab2       ab3       ab4       ab5       ab6       ab7  \\\n",
       "0   c1  0.905732  0.707197  0.428938  0.774995  0.081938  0.954180  0.177443   \n",
       "1   c2  0.129007  0.984608  0.392958  0.328581  0.535483  0.575323  0.350605   \n",
       "2   c3  0.952335  0.360668  0.345067  0.998513  0.432229  0.602585  0.811613   \n",
       "3   c4  0.198856  0.244635  0.098821  0.766162  0.165388  0.753413  0.012347   \n",
       "4   c5  0.534105  0.506822  0.061836  0.362097  0.077992  0.301004  0.199211   \n",
       "\n",
       "        ab8       ab9      ab10      ab11      ab12      ab13  money  \n",
       "0  0.419994  0.003959  0.074694  0.865545  0.647459  0.753152    805  \n",
       "1  0.807879  0.551643  0.103225  0.057276  0.953222  0.439407    351  \n",
       "2  0.797857  0.876026  0.126509  0.838291  0.199005  0.329806    739  \n",
       "3  0.269435  0.270655  0.496509  0.833212  0.644528  0.573782    210  \n",
       "4  0.427506  0.777432  0.231721  0.334773  0.955292  0.781242    238  "
      ]
     },
     "execution_count": 8,
     "metadata": {},
     "output_type": "execute_result"
    }
   ],
   "source": [
    "df.head()\n"
   ]
  },
  {
   "cell_type": "code",
   "execution_count": 16,
   "metadata": {},
   "outputs": [
    {
     "data": {
      "image/png": "[encoded data removed]",
      "text/plain": [
       "<Figure size 432x288 with 2 Axes>"
      ]
     },
     "metadata": {
      "needs_background": "light"
     },
     "output_type": "display_data"
    }
   ],
   "source": [
    "import seaborn as sns\n",
    "import matplotlib.pyplot as plt\n",
    "corr = df.corr()\n",
    "sns.heatmap(corr, \n",
    "            xticklabels=corr.columns.values,\n",
    "            yticklabels=corr.columns.values)\n",
    "plt.show()"
   ]
  },
  {
   "cell_type": "code",
   "execution_count": 17,
   "metadata": {},
   "outputs": [
    {
     "data": {
      "text/plain": [
       "ab1      0.154955\n",
       "ab2      0.010188\n",
       "ab3      0.556352\n",
       "ab4      0.110173\n",
       "ab5      0.031476\n",
       "ab6     -0.191242\n",
       "ab7      0.223632\n",
       "ab8     -0.117572\n",
       "ab9      0.066481\n",
       "ab10    -0.198117\n",
       "ab11     0.172584\n",
       "ab12    -0.442057\n",
       "ab13    -0.064249\n",
       "money    1.000000\n",
       "Name: money, dtype: float64"
      ]
     },
     "execution_count": 17,
     "metadata": {},
     "output_type": "execute_result"
    }
   ],
   "source": [
    "corr['money']"
   ]
  },
  {
   "cell_type": "code",
   "execution_count": null,
   "metadata": {},
   "outputs": [],
   "source": []
  },
  {
   "cell_type": "code",
   "execution_count": null,
   "metadata": {},
   "outputs": [],
   "source": []
  }
 ],
 "metadata": {
  "kernelspec": {
   "display_name": "Python 3",
   "language": "python",
   "name": "python3"
  },
  "language_info": {
   "codemirror_mode": {
    "name": "ipython",
    "version": 3
   },
   "file_extension": ".py",
   "mimetype": "text/x-python",
   "name": "python",
   "nbconvert_exporter": "python",
   "pygments_lexer": "ipython3",
   "version": "3.7.1"
  }
 },
 "nbformat": 4,
 "nbformat_minor": 2
}
